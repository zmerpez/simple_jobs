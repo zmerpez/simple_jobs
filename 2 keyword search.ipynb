{
 "cells": [
  {
   "cell_type": "code",
   "execution_count": 42,
   "id": "8dd94581",
   "metadata": {},
   "outputs": [
    {
     "data": {
      "text/html": [
       "<div>\n",
       "<style scoped>\n",
       "    .dataframe tbody tr th:only-of-type {\n",
       "        vertical-align: middle;\n",
       "    }\n",
       "\n",
       "    .dataframe tbody tr th {\n",
       "        vertical-align: top;\n",
       "    }\n",
       "\n",
       "    .dataframe thead th {\n",
       "        text-align: right;\n",
       "    }\n",
       "</style>\n",
       "<table border=\"1\" class=\"dataframe\">\n",
       "  <thead>\n",
       "    <tr style=\"text-align: right;\">\n",
       "      <th></th>\n",
       "      <th>key</th>\n",
       "      <th>text</th>\n",
       "      <th>include_set1</th>\n",
       "      <th>include_set2</th>\n",
       "      <th>include_both</th>\n",
       "    </tr>\n",
       "  </thead>\n",
       "  <tbody>\n",
       "    <tr>\n",
       "      <th>0</th>\n",
       "      <td>1</td>\n",
       "      <td>a1 bb</td>\n",
       "      <td>a1</td>\n",
       "      <td>bb</td>\n",
       "      <td>True</td>\n",
       "    </tr>\n",
       "    <tr>\n",
       "      <th>1</th>\n",
       "      <td>2</td>\n",
       "      <td>a2 bc</td>\n",
       "      <td>a2</td>\n",
       "      <td></td>\n",
       "      <td>False</td>\n",
       "    </tr>\n",
       "    <tr>\n",
       "      <th>2</th>\n",
       "      <td>3</td>\n",
       "      <td>a3 bb</td>\n",
       "      <td></td>\n",
       "      <td>bb</td>\n",
       "      <td>False</td>\n",
       "    </tr>\n",
       "    <tr>\n",
       "      <th>3</th>\n",
       "      <td>4</td>\n",
       "      <td>a4 bc</td>\n",
       "      <td></td>\n",
       "      <td></td>\n",
       "      <td>False</td>\n",
       "    </tr>\n",
       "    <tr>\n",
       "      <th>4</th>\n",
       "      <td>5</td>\n",
       "      <td>a1 a2 bd</td>\n",
       "      <td>a1, a2</td>\n",
       "      <td>bd</td>\n",
       "      <td>True</td>\n",
       "    </tr>\n",
       "  </tbody>\n",
       "</table>\n",
       "</div>"
      ],
      "text/plain": [
       "   key      text include_set1 include_set2  include_both\n",
       "0    1     a1 bb           a1           bb          True\n",
       "1    2     a2 bc           a2                      False\n",
       "2    3     a3 bb                        bb         False\n",
       "3    4     a4 bc                                   False\n",
       "4    5  a1 a2 bd       a1, a2           bd          True"
      ]
     },
     "execution_count": 42,
     "metadata": {},
     "output_type": "execute_result"
    }
   ],
   "source": [
    "import pandas as pd\n",
    "list_1 = ['a1 bb', 'a2 bc', 'a3 bb', 'a4 bc', 'a1 a2 bd']\n",
    "list_2 = [1, 2, 3, 4, 5]\n",
    "df = pd.DataFrame({'key':list_2, 'text':list_1})\n",
    "sub_1 = ['a1', 'a2']\n",
    "sub_2 = ['bb', 'bd']\n",
    "## Search for coexistence of words from two lists given a dataframe and a column name\n",
    "def coexist_keywords(df, col, search_words1, search_words2):\n",
    "    df['include_set1'] = df[col].str.lower().str.findall('|'.join(search_words1)).apply(set).str.join(', ')\n",
    "    df['include_set2'] = df[col].str.lower().str.findall('|'.join(search_words2)).apply(set).str.join(', ')\n",
    "    df['include_both'] = (df['include_set1']!= '') & (df['include_set2'] != '')\n",
    "    return df\n",
    "coexist_keywords(df, 'text', sub_1, sub_2)"
   ]
  },
  {
   "cell_type": "code",
   "execution_count": null,
   "id": "f3d321e6",
   "metadata": {},
   "outputs": [],
   "source": []
  }
 ],
 "metadata": {
  "kernelspec": {
   "display_name": "Python 3 (ipykernel)",
   "language": "python",
   "name": "python3"
  },
  "language_info": {
   "codemirror_mode": {
    "name": "ipython",
    "version": 3
   },
   "file_extension": ".py",
   "mimetype": "text/x-python",
   "name": "python",
   "nbconvert_exporter": "python",
   "pygments_lexer": "ipython3",
   "version": "3.7.3"
  }
 },
 "nbformat": 4,
 "nbformat_minor": 5
}
