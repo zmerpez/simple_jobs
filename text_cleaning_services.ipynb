{
 "cells": [
  {
   "cell_type": "markdown",
   "id": "d128faaa",
   "metadata": {},
   "source": [
    "# Basic text cleaning techniques"
   ]
  },
  {
   "cell_type": "code",
   "execution_count": 2,
   "id": "0d611f7d",
   "metadata": {},
   "outputs": [],
   "source": [
    "import warnings\n",
    "warnings.filterwarnings('ignore')"
   ]
  },
  {
   "cell_type": "code",
   "execution_count": 3,
   "id": "81c8e14e",
   "metadata": {},
   "outputs": [
    {
     "name": "stdout",
     "output_type": "stream",
     "text": [
      "Remove whitespaces\n",
      "\n",
      "So coooooooool ! I just love thisGreat product, <div>Great Product</div> http://www.greatproduct.com !!!\n",
      "\n",
      "Remove html tags\n",
      "\n",
      "So coooooooool ! I just love thisGreat product,  Great Product  http://www.greatproduct.com !!!\n",
      "\n",
      "Remove urls\n",
      "\n",
      "So coooooooool ! I just love thisGreat product,  Great Product   \n",
      "\n",
      "Remove ponctuation\n",
      "\n",
      "So coooooooool  I just love thisGreat product  Great Product   \n",
      "\n",
      "Standardize words\n",
      "\n",
      "So cool  I just love thisGreat product  Great Product  \n",
      "\n",
      "Split attached words\n",
      "\n",
      "So cool   I just love this Great product   Great  Product  \n",
      "\n",
      "Lowercase\n",
      "\n",
      "so cool   i just love this great product   great  product  \n",
      "\n",
      "Stopwords\n",
      "\n",
      "cool love great product great product\n",
      "\n",
      "Tokenize\n",
      "\n",
      "['cool', 'love', 'great', 'product', 'great', 'product']\n"
     ]
    }
   ],
   "source": [
    "import re, itertools\n",
    "import nltk\n",
    "from nltk.corpus import stopwords \n",
    "\n",
    "verbatim = '    So coooooooool ! I just love thisGreat product, <div>Great Product</div> http://www.greatproduct.com !!!'\n",
    "\n",
    "print(\"Remove whitespaces\\n\")\n",
    "verbatim = verbatim.strip()\n",
    "print(verbatim)\n",
    "\n",
    "print(\"\\nRemove html tags\\n\")\n",
    "verbatim = re.sub(r'<[^<]+?>', ' ', verbatim)\n",
    "print(verbatim)\n",
    "\n",
    "print(\"\\nRemove urls\\n\")\n",
    "verbatim = re.sub(r'https?:\\/\\/.*[\\r\\n]*', ' ', verbatim, flags=re.MULTILINE)\n",
    "print(verbatim)\n",
    "\n",
    "print(\"\\nRemove ponctuation\\n\")\n",
    "verbatim = re.sub(r'[^\\w\\s]','',verbatim)\n",
    "print(verbatim)\n",
    "\n",
    "print(\"\\nStandardize words\\n\")\n",
    "verbatim = ''.join(''.join(s)[:2] for _, s in itertools.groupby(verbatim))\n",
    "print(verbatim)\n",
    "\n",
    "print(\"\\nSplit attached words\\n\")\n",
    "verbatim = ' '.join(re.findall('[A-Z][^A-Z]*', verbatim))\n",
    "print(verbatim)\n",
    "\n",
    "print(\"\\nLowercase\\n\")\n",
    "verbatim = verbatim.lower()\n",
    "print(verbatim)\n",
    "\n",
    "print(\"\\nStopwords\\n\")\n",
    "verbatim = ' '.join([word for word in verbatim.split() if word not in (stopwords.words('english'))])\n",
    "print(verbatim)\n",
    "\n",
    "print(\"\\nTokenize\\n\")\n",
    "tokens = nltk.word_tokenize(verbatim)\n",
    "print(tokens)"
   ]
  },
  {
   "cell_type": "code",
   "execution_count": null,
   "id": "af211ff2",
   "metadata": {},
   "outputs": [],
   "source": []
  }
 ],
 "metadata": {
  "kernelspec": {
   "display_name": "Python 3 (ipykernel)",
   "language": "python",
   "name": "python3"
  },
  "language_info": {
   "codemirror_mode": {
    "name": "ipython",
    "version": 3
   },
   "file_extension": ".py",
   "mimetype": "text/x-python",
   "name": "python",
   "nbconvert_exporter": "python",
   "pygments_lexer": "ipython3",
   "version": "3.7.3"
  }
 },
 "nbformat": 4,
 "nbformat_minor": 5
}
